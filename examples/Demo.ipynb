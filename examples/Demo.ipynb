{
 "cells": [
  {
   "cell_type": "markdown",
   "metadata": {},
   "source": [
    "# Demo: Simple two photo difference.\n",
    "\n",
    "An initial demonstration from just two photos illustrating 50mm^2 retroreflectors 100m away."
   ]
  },
  {
   "cell_type": "code",
   "execution_count": null,
   "metadata": {},
   "outputs": [],
   "source": [
    "import retrodetect as rd\n",
    "import matplotlib.pyplot as plt\n",
    "%matplotlib inline\n",
    "import numpy as np\n",
    "import cv2 #note: cv2 needed for this demo\n",
    "\n",
    "flash = cv2.imread('flash1.jpg',0).astype(float)\n",
    "noflash = cv2.imread('noflash1.jpg',0).astype(float)\n",
    "\n",
    "done = rd.detect(flash,noflash,blocksize=20, offset=10, searchbox=20, step=4, searchblocksize=50, ensemblesizesqrt=3, dilate=True,margin=100)\n",
    "#the above, function does three things...\n",
    "#shift = rd.getshift(flash,noflash)\n",
    "#out_img = rd.getblockmaxedimage(noflash,5,5)\n",
    "#done = rd.alignandsubtract(out_img,shift,flash)\n",
    "\n",
    "plt.figure(figsize=[20,20])\n",
    "foundimg = 20*(rd.getblockmaxedimage(done,3,5)>40)\n",
    "plt.imshow(flash[100:-100,100:-100]*0.1+foundimg,cmap='gray')\n",
    "#the low res image version can't see the distant reflectors"
   ]
  },
  {
   "cell_type": "code",
   "execution_count": 1,
   "metadata": {},
   "outputs": [
    {
     "data": {
      "text/plain": [
       "['c:\\\\Users\\\\cs1sch\\\\Documents\\\\Retrodetect_2024\\\\bee-retrodetect\\\\examples',\n",
       " 'c:\\\\Users\\\\cs1sch\\\\Documents\\\\Retrodetect_2024\\\\bee-retrodetect\\\\.conda\\\\python311.zip',\n",
       " 'c:\\\\Users\\\\cs1sch\\\\Documents\\\\Retrodetect_2024\\\\bee-retrodetect\\\\.conda\\\\DLLs',\n",
       " 'c:\\\\Users\\\\cs1sch\\\\Documents\\\\Retrodetect_2024\\\\bee-retrodetect\\\\.conda\\\\Lib',\n",
       " 'c:\\\\Users\\\\cs1sch\\\\Documents\\\\Retrodetect_2024\\\\bee-retrodetect\\\\.conda',\n",
       " '',\n",
       " 'C:\\\\Users\\\\cs1sch\\\\AppData\\\\Roaming\\\\Python\\\\Python311\\\\site-packages',\n",
       " 'C:\\\\Users\\\\cs1sch\\\\AppData\\\\Roaming\\\\Python\\\\Python311\\\\site-packages\\\\win32',\n",
       " 'C:\\\\Users\\\\cs1sch\\\\AppData\\\\Roaming\\\\Python\\\\Python311\\\\site-packages\\\\win32\\\\lib',\n",
       " 'C:\\\\Users\\\\cs1sch\\\\AppData\\\\Roaming\\\\Python\\\\Python311\\\\site-packages\\\\Pythonwin',\n",
       " 'c:\\\\Users\\\\cs1sch\\\\Documents\\\\Retrodetect_2024\\\\bee-retrodetect\\\\.conda\\\\Lib\\\\site-packages']"
      ]
     },
     "execution_count": 1,
     "metadata": {},
     "output_type": "execute_result"
    }
   ],
   "source": [
    "import sys\n",
    "sys.path"
   ]
  },
  {
   "cell_type": "markdown",
   "metadata": {},
   "source": [
    "# Demo: Full System\n",
    "\n",
    "This example illustrates the system working on a list of images."
   ]
  },
  {
   "cell_type": "code",
   "execution_count": null,
   "metadata": {},
   "outputs": [],
   "source": [
    "!unzip demo.zip"
   ]
  },
  {
   "cell_type": "markdown",
   "metadata": {},
   "source": [
    "The key line is:\n",
    "\n",
    "        detectcontact(photo_list,n,delsize=100)\n",
    "        \n",
    "here we pass a list of photo objects, and ask it to find the reflector in the nth image in that list."
   ]
  },
  {
   "cell_type": "code",
   "execution_count": null,
   "metadata": {
    "scrolled": false
   },
   "outputs": [],
   "source": [
    "import numpy as np\n",
    "import matplotlib.pyplot as plt\n",
    "%matplotlib inline\n",
    "from retrodetect import detectcontact\n",
    "#from QueueBuffer import QueueBuffer\n",
    "from glob import glob\n",
    "import pickle\n",
    "import pandas as pd\n",
    "df = pd.read_csv('labels_photos_June08.csv',names=['index','filename','x','y'])\n",
    "import pickle\n",
    "\n",
    "correctx = None\n",
    "correcty = None\n",
    "photo_list = []\n",
    "for imfilename in sorted(glob('photo_object*.np')):\n",
    "    photoitem = pickle.load(open(imfilename,'rb'))\n",
    "    def getname(x):\n",
    "        return x.split('/')[-1]\n",
    "    dfs=df[df['filename'].apply(getname)==imfilename.split('/')[-1]]\n",
    "    if len(dfs)>0: \n",
    "        correctx = dfs['x'].tolist()[0]\n",
    "        correcty = dfs['y'].tolist()[0]\n",
    "    \n",
    "    if photoitem is not None:\n",
    "        if photoitem['img'] is not None:\n",
    "            photoitem['img'] = photoitem['img'].astype(np.float32)\n",
    "        photoitem['correctx']=correctx\n",
    "        photoitem['correcty']=correcty\n",
    "    if len(dfs)==0:\n",
    "        correctx=None\n",
    "        correcty=None\n",
    "    photo_list.append(photoitem)\n",
    "    \n",
    "def drawreticule(x,y,c='w',alpha=0.5,angle=False):\n",
    "    if angle:\n",
    "        plt.plot([x-70,x-10],[y-70,y-10],c,alpha=alpha)\n",
    "        plt.plot([x+70,x+10],[y+70,y+10],c,alpha=alpha)\n",
    "        plt.plot([x-70,x-10],[y+70,y+10],c,alpha=alpha)\n",
    "        plt.plot([x+70,x+10],[y-70,y-10],c,alpha=alpha)\n",
    "    else:\n",
    "        plt.hlines(y,x-70,x-10,c,alpha=alpha)\n",
    "        plt.hlines(y,x+10,x+70,c,alpha=alpha)\n",
    "        plt.vlines(x,y-70,y-10,c,alpha=alpha)\n",
    "        plt.vlines(x,y+10,y+70,c,alpha=alpha)\n",
    "\n",
    "for n in range(len(photo_list)):\n",
    "    if not photo_list[n]['record']['endofset']: continue\n",
    "    contact,found,searchimg = detectcontact(photo_list,n,delsize=100)\n",
    "    \n",
    "    if contact is None: continue\n",
    "    if photo_list[n]['correctx'] is None: continue #we don't know where it is in the photo\n",
    "\n",
    "    plt.figure(figsize=[25,20])\n",
    "    img = photo_list[n-1]['img']\n",
    "    plt.imshow(img)\n",
    "    plt.clim([0,10])\n",
    "    plt.colorbar()\n",
    "    for c in contact:\n",
    "        drawreticule(c['x'],c['y'])\n",
    "        drawreticule(photo_list[n]['correctx'],photo_list[n]['correcty'],'y',1,angle=True)\n",
    "        plt.title([photo_list[n]['index'],c['x'],c['y']])\n",
    "        if c['prediction']<0:\n",
    "            plt.gca().add_artist(plt.Circle((c['x'],c['y']), 50, color='w',fill=False))"
   ]
  },
  {
   "cell_type": "markdown",
   "metadata": {},
   "source": [
    "The white + crosses are the ten candidate maximum locations.\n",
    "The yellow x cross indicates the true location of the retroreflector.\n",
    "The white circle indicates the locations where the confidence threshold has been met."
   ]
  },
  {
   "cell_type": "code",
   "execution_count": null,
   "metadata": {},
   "outputs": [],
   "source": []
  }
 ],
 "metadata": {
  "kernelspec": {
   "display_name": "Python 3",
   "language": "python",
   "name": "python3"
  },
  "language_info": {
   "codemirror_mode": {
    "name": "ipython",
    "version": 3
   },
   "file_extension": ".py",
   "mimetype": "text/x-python",
   "name": "python",
   "nbconvert_exporter": "python",
   "pygments_lexer": "ipython3",
   "version": "3.11.7"
  }
 },
 "nbformat": 4,
 "nbformat_minor": 2
}
